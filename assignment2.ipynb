{
 "cells": [
  {
   "cell_type": "markdown",
   "metadata": {},
   "source": [
    "# marksheet"
   ]
  },
  {
   "cell_type": "code",
   "execution_count": 9,
   "metadata": {
    "scrolled": true
   },
   "outputs": [
    {
     "name": "stdout",
     "output_type": "stream",
     "text": [
      "Enter the name of candidate: muhammad aaqib\n",
      "enter marks of maths : 87\n",
      "enter english marks :58\n",
      "enter physics marks :83\n",
      "enter computer marks :90\n",
      "enter pst marks :52\n",
      "enter Urdu marks :82\n",
      "Marksheet of   Muhammad Aaqib\n",
      "English    :  58\n",
      "Maths      :  87\n",
      "Physics    :  83\n",
      "computer   :  90\n",
      "Urdu       :  82\n",
      "Pst        :  52\n",
      "Percentage :  75.33333333333333\n",
      "Grade      :  A\n"
     ]
    }
   ],
   "source": [
    "s_name= (input(\"Enter the name of candidate: \"))\n",
    "math= int(input(\"enter marks of maths : \"))\n",
    "english = int(input (\"enter english marks :\"))\n",
    "physics = int(input (\"enter physics marks :\"))\n",
    "computer = int(input (\"enter computer marks :\"))\n",
    "pst = int(input (\"enter pst marks :\"))\n",
    "urdu = int(input (\"enter Urdu marks :\"))\n",
    "avg= (maths+english+physics+computer+pst+urdu)/600\n",
    "per= avg*100\n",
    "grade=''\n",
    "if per>=80:\n",
    "    grade=\"A+\"\n",
    "elif per>=70 and per<80:\n",
    "    grade=\"A\"\n",
    "elif per>=60 and per<70:\n",
    "    grade=\"B\"\n",
    "elif per>=50 and per<60:\n",
    "    grade=\"C\"\n",
    "else :\n",
    "    grade='fail'\n",
    "print(\"Marksheet of   \"+s_name.title())\n",
    "print(\"English    : \",english )\n",
    "print(\"Maths      : \", math )\n",
    "print(\"Physics    : \",physics)\n",
    "print(\"computer   : \",computer )\n",
    "print(\"Urdu       : \",urdu)\n",
    "print(\"Pst        : \",pst)\n",
    "print(\"Percentage : \",(per))\n",
    "print(\"Grade      : \", grade)\n"
   ]
  },
  {
   "cell_type": "markdown",
   "metadata": {},
   "source": [
    "# even num"
   ]
  },
  {
   "cell_type": "code",
   "execution_count": null,
   "metadata": {
    "collapsed": true
   },
   "outputs": [],
   "source": [
    "\n",
    "if a%2==0:\n",
    "    print(a,\" is  an even number\")\n",
    "else:\n",
    "    print(a,\" is an odd number\")"
   ]
  },
  {
   "cell_type": "markdown",
   "metadata": {},
   "source": [
    "# length of list\n"
   ]
  },
  {
   "cell_type": "code",
   "execution_count": 3,
   "metadata": {},
   "outputs": [
    {
     "name": "stdout",
     "output_type": "stream",
     "text": [
      "length of list is  6\n"
     ]
    }
   ],
   "source": [
    "l= [2,2,2,3,3,3]\n",
    "print(\"length of list is \",len(l))"
   ]
  },
  {
   "cell_type": "markdown",
   "metadata": {},
   "source": [
    "# Sum of numeric element in list"
   ]
  },
  {
   "cell_type": "code",
   "execution_count": 4,
   "metadata": {},
   "outputs": [
    {
     "name": "stdout",
     "output_type": "stream",
     "text": [
      "sum is  33\n"
     ]
    }
   ],
   "source": [
    "lis= [1,23,4,5]\n",
    "sum = 0\n",
    "for i in range (len(lis)):\n",
    "    sum +=lis[i]\n",
    "print(\"sum is \",sum )\n"
   ]
  },
  {
   "cell_type": "markdown",
   "metadata": {},
   "source": [
    "# maximum number in list"
   ]
  },
  {
   "cell_type": "code",
   "execution_count": 17,
   "metadata": {},
   "outputs": [
    {
     "name": "stdout",
     "output_type": "stream",
     "text": [
      "maximum number is  13\n"
     ]
    }
   ],
   "source": [
    "lis= [13,7,3]\n",
    "maximun_num = 0\n",
    "for i in range(len(lis)):\n",
    "    if lis[i]>lis[i-1]:\n",
    "        maximum_num=lis[i]\n",
    "print(\"maximum number is \",maximum_num)\n",
    "\n"
   ]
  },
  {
   "cell_type": "markdown",
   "metadata": {},
   "source": [
    "# less than 5 in list"
   ]
  },
  {
   "cell_type": "code",
   "execution_count": 19,
   "metadata": {},
   "outputs": [
    {
     "name": "stdout",
     "output_type": "stream",
     "text": [
      "1\n",
      "1\n",
      "2\n",
      "3\n"
     ]
    }
   ],
   "source": [
    "a=[1,1,2,3,5,8,13,21,34,55,89]\n",
    "for i in range (len(a)):\n",
    "    if a[i]<5:\n",
    "        print(a[i])\n"
   ]
  }
 ],
 "metadata": {
  "kernelspec": {
   "display_name": "Python 3",
   "language": "python",
   "name": "python3"
  },
  "language_info": {
   "codemirror_mode": {
    "name": "ipython",
    "version": 3
   },
   "file_extension": ".py",
   "mimetype": "text/x-python",
   "name": "python",
   "nbconvert_exporter": "python",
   "pygments_lexer": "ipython3",
   "version": "3.6.3"
  }
 },
 "nbformat": 4,
 "nbformat_minor": 2
}
